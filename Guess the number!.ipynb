{
 "cells": [
  {
   "cell_type": "code",
   "execution_count": 5,
   "id": "44b892ff",
   "metadata": {
    "scrolled": true
   },
   "outputs": [
    {
     "name": "stdout",
     "output_type": "stream",
     "text": [
      "a number from 1 to 100 is guessed\n",
      "55\n",
      "The guessed number is grather than 55\n",
      "66\n",
      "The guessed number is grather than 66\n",
      "100\n",
      "You have guessed the number using 3 tries\n"
     ]
    }
   ],
   "source": [
    "import numpy as np\n",
    "\n",
    "counter = 0\n",
    "number = np.random.randint(1,101)\n",
    "print(\"a number from 1 to 100 is guessed\")\n",
    "    \n",
    "while True:\n",
    "    predict = int(input())\n",
    "    counter += 1\n",
    "    if number == predict:\n",
    "        break\n",
    "    elif number > predict:\n",
    "        print(f'The guessed number is grather than {predict}')\n",
    "    else: \n",
    "        print(f'The guessed number is less than {predict}')\n",
    "print(f'You have guessed the number using {counter} tries')"
   ]
  },
  {
   "cell_type": "code",
   "execution_count": 9,
   "id": "a65a443d",
   "metadata": {},
   "outputs": [
    {
     "name": "stdout",
     "output_type": "stream",
     "text": [
      "a number from 1 to 100 is guessed\n",
      "You have guessed the number 52 using 52 tries\n"
     ]
    }
   ],
   "source": [
    "number = np.random.randint(1,101)\n",
    "print(\"a number from 1 to 100 is guessed\")\n",
    "\n",
    "for counter in range(1,101):\n",
    "    if number == counter:\n",
    "        break\n",
    "\n",
    "print(f'You have guessed the number {number} using {counter} tries')"
   ]
  },
  {
   "cell_type": "code",
   "execution_count": 34,
   "id": "d22b261d",
   "metadata": {},
   "outputs": [],
   "source": [
    "def game_core_v1(number):\n",
    "    ''' Just guess at random, without using any information about more or less.\n",
    "    The function takes the hidden number and returns the number of attempts''' \n",
    "    count = 0\n",
    "    while True:\n",
    "        count+=1\n",
    "        predict = np.random.randint(1,101)\n",
    "        if number == predict:\n",
    "            return count\n",
    "        \n",
    "def score_game(game_core):\n",
    "    '''Run the game 1000 times to find out how quickly the game guesses the number'''\n",
    "    count_ls = []\n",
    "    np.random.seed(1)\n",
    "    random_array = np.random.randint(1, 101, size=(1000))\n",
    "    for number in random_array:\n",
    "        count_ls.append(game_core(number))\n",
    "    score = int(np.mean(count_ls))\n",
    "    print(f'Your algorithm guesses the number on average in {score} attempts')\n",
    "    return(score)"
   ]
  },
  {
   "cell_type": "code",
   "execution_count": 38,
   "id": "b4e19d01",
   "metadata": {},
   "outputs": [
    {
     "name": "stdout",
     "output_type": "stream",
     "text": [
      "Your algorithm guesses the number on average in 101 attempts\n"
     ]
    },
    {
     "data": {
      "text/plain": [
       "101"
      ]
     },
     "execution_count": 38,
     "metadata": {},
     "output_type": "execute_result"
    }
   ],
   "source": [
    "score_game(game_core_v1)"
   ]
  },
  {
   "cell_type": "code",
   "execution_count": 42,
   "id": "2abea66c",
   "metadata": {},
   "outputs": [],
   "source": [
    "def game_core_v2(number):\n",
    "    '''Set any random number, and then decrease or increase it depending on whether it is more or less than what we need.\n",
    "    The function takes the hidden number and returns the number of attempts'''\n",
    "    count = 1\n",
    "    predict = np.random.randint(1,101)\n",
    "    while number != predict:\n",
    "        count+=1\n",
    "        if number > predict:\n",
    "            predict += 1\n",
    "        elif number < predict:\n",
    "            predict -= 1\n",
    "    return(count)"
   ]
  },
  {
   "cell_type": "code",
   "execution_count": 43,
   "id": "51e9728a",
   "metadata": {},
   "outputs": [
    {
     "name": "stdout",
     "output_type": "stream",
     "text": [
      "Your algorithm guesses the number on average in 33 attempts\n"
     ]
    },
    {
     "data": {
      "text/plain": [
       "33"
      ]
     },
     "execution_count": 43,
     "metadata": {},
     "output_type": "execute_result"
    }
   ],
   "source": [
    "score_game(game_core_v2)"
   ]
  }
 ],
 "metadata": {
  "kernelspec": {
   "display_name": "Python 3 (ipykernel)",
   "language": "python",
   "name": "python3"
  },
  "language_info": {
   "codemirror_mode": {
    "name": "ipython",
    "version": 3
   },
   "file_extension": ".py",
   "mimetype": "text/x-python",
   "name": "python",
   "nbconvert_exporter": "python",
   "pygments_lexer": "ipython3",
   "version": "3.10.9"
  }
 },
 "nbformat": 4,
 "nbformat_minor": 5
}
